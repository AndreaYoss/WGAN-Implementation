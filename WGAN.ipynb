{
  "nbformat": 4,
  "nbformat_minor": 0,
  "metadata": {
    "kernelspec": {
      "display_name": "Python 3",
      "language": "python",
      "name": "python3"
    },
    "language_info": {
      "codemirror_mode": {
        "name": "ipython",
        "version": 3
      },
      "file_extension": ".py",
      "mimetype": "text/x-python",
      "name": "python",
      "nbconvert_exporter": "python",
      "pygments_lexer": "ipython3",
      "version": "3.7.7"
    },
    "colab": {
      "name": "WGAN.ipynb",
      "provenance": [],
      "collapsed_sections": [],
      "toc_visible": true
    },
    "accelerator": "GPU"
  },
  "cells": [
    {
      "cell_type": "markdown",
      "metadata": {
        "id": "RmYhsbHK0gY9"
      },
      "source": [
        "#### Andrea Yoss\n",
        "# ENM Project"
      ]
    },
    {
      "cell_type": "code",
      "metadata": {
        "id": "UtDwrvka0gZo"
      },
      "source": [
        "#jax imports\n",
        "import jax.numpy as np\n",
        "from jax import random, lax, jit, grad, vmap\n",
        "from jax.experimental import stax, optimizers\n",
        "from jax.experimental.stax import BatchNorm, Dense, Flatten, Relu, Tanh, Sigmoid, GeneralConv, GeneralConvTranspose, Conv, ConvTranspose, serial, elementwise\n",
        "from jax.nn import initializers, leaky_relu, one_hot\n",
        "from jax.nn.initializers import glorot_normal, normal, ones, zeros\n",
        "from jax.scipy.special import expit as sigmoid\n",
        "\n",
        "#additional imports\n",
        "import matplotlib.pyplot as plt\n",
        "from sklearn.metrics import confusion_matrix\n",
        "import torch\n",
        "from torchvision import datasets, transforms\n",
        "import numpy as onp\n",
        "from tqdm import trange\n",
        "import itertools\n",
        "from functools import partial\n",
        "import time"
      ],
      "execution_count": 1,
      "outputs": []
    },
    {
      "cell_type": "code",
      "metadata": {
        "id": "2yjMLmmW0gZo"
      },
      "source": [
        "#each layer constructor function returns an (init_fun, apply_fun) pair\n",
        "###init_fun: takes rng_key and input shape, returns (output_shape, params) pair\n",
        "###apply_fun: takes params, inputs and rng_key, and applies the layer"
      ],
      "execution_count": 2,
      "outputs": []
    },
    {
      "cell_type": "code",
      "metadata": {
        "id": "B6Hti3ow0gZq"
      },
      "source": [
        "#Data Import\n",
        "\n",
        "batch_size = 64\n",
        "\n",
        "#to normalize, transform to tensor\n",
        "#added resize as means to troubleshoot issues in model\n",
        "transform = transforms.Compose([transforms.Resize(64), \n",
        "                                transforms.ToTensor(), \n",
        "                               transforms.Normalize(mean=(0.5), std = (0.5))])\n",
        "\n",
        "#importing fashion mnist dataset from torchvision.datasets\n",
        "#train, test data\n",
        "train_dataset = datasets.FashionMNIST('traindata', train=True, download = True, transform=transform)\n",
        "test_dataset = datasets.FashionMNIST('testdata', train=False, download = True, transform=transform)\n",
        "\n",
        "#Data Loader\n",
        "train_loader = torch.utils.data.DataLoader(train_dataset,\n",
        "                                           batch_size = batch_size, \n",
        "                                           shuffle = True)\n",
        "\n",
        "test_loader = torch.utils.data.DataLoader(train_dataset,\n",
        "                                           batch_size = 1, \n",
        "                                           shuffle = False)"
      ],
      "execution_count": 3,
      "outputs": []
    },
    {
      "cell_type": "code",
      "metadata": {
        "colab": {
          "base_uri": "https://localhost:8080/"
        },
        "id": "VNFMy0oq5KZ4",
        "outputId": "1142c890-3732-4ba9-ff48-f077e4863e13"
      },
      "source": [
        "#sampling 5000 images from dataset to address computational limitations\n",
        "from torch.utils.data import Dataset, DataLoader, SubsetRandomSampler\n",
        "\n",
        "dataset_size = len(train_dataset)\n",
        "dataset_indices = list(range(dataset_size))\n",
        "onp.random.shuffle(dataset_indices)\n",
        "train_idx = dataset_indices[:5000]\n",
        "train_sampler = SubsetRandomSampler(train_idx)\n",
        "mod_train_loader = DataLoader(dataset=train_dataset, shuffle=False, batch_size=64, sampler=train_sampler)\n",
        "\n",
        "mod_train_loader"
      ],
      "execution_count": 25,
      "outputs": [
        {
          "output_type": "execute_result",
          "data": {
            "text/plain": [
              "<torch.utils.data.dataloader.DataLoader at 0x7f23e4352150>"
            ]
          },
          "metadata": {
            "tags": []
          },
          "execution_count": 25
        }
      ]
    },
    {
      "cell_type": "code",
      "metadata": {
        "id": "AjLGCjSr0gZs"
      },
      "source": [
        "#ORIGINAL GENERATOR AND DISCRIMINATOR FUNCTIONS\n",
        "#these were modified due to limitations in my computing resources \n",
        "\n",
        "def Generator():\n",
        "    #using standard conv layer filters: 1024, 512, 256, 128\n",
        "    init_fun, conv_net = stax.serial(ConvTranspose(out_chan=1024, filter_shape=(4, 4), strides=(1, 1), padding=\"VALID\", W_init=initializers.normal(stddev=0.02)),\n",
        "                                    BatchNorm(), \n",
        "                                    Relu,\n",
        "                                    ConvTranspose(out_chan=512, filter_shape=(4, 4), strides=(2, 2), padding=\"SAME\"),\n",
        "                                    BatchNorm(),\n",
        "                                    Relu,\n",
        "                                    ConvTranspose(out_chan=256, filter_shape=(4, 4), strides=(2, 2)),\n",
        "                                    BatchNorm(), \n",
        "                                    Relu,\n",
        "                                    ConvTranspose(out_chan=128, filter_shape=(4, 4), strides=(2, 2), padding=\"SAME\"),\n",
        "                                    BatchNorm(),\n",
        "                                    Relu,\n",
        "                                    ConvTranspose(out_chan=1, filter_shape=(4, 4), strides=(2, 2), padding=\"SAME\"), \n",
        "                                    Tanh)\n",
        "                                     \n",
        "    return init_fun, conv_net\n",
        "\n",
        "def Discriminator():\n",
        "    init_fun, conv_net = stax.serial(Conv(out_chan=128, filter_shape=(4, 4), strides=(2, 2), padding=\"SAME\"),\n",
        "                                    BatchNorm(), \n",
        "                                    Relu,\n",
        "                                    Conv(out_chan=256, filter_shape=(4, 4), strides=(2, 2), padding=\"SAME\"),\n",
        "                                    BatchNorm(),\n",
        "                                    Relu,\n",
        "                                    Conv(out_chan=512, filter_shape=(4, 4), strides=(2, 2), padding=\"SAME\"),\n",
        "                                    BatchNorm(), \n",
        "                                    Relu,\n",
        "                                    Conv(out_chan=1024, filter_shape=(4, 4), strides=(2, 2), padding=\"SAME\"),\n",
        "                                    BatchNorm(),\n",
        "                                    Relu,\n",
        "                                    Dense(out_dim=1))\n",
        "    return init_fun, conv_net"
      ],
      "execution_count": 5,
      "outputs": []
    },
    {
      "cell_type": "code",
      "metadata": {
        "id": "auI70bcEN9Jz"
      },
      "source": [
        "#modified version of generator/ discriminator functions\n",
        "#removed all but 2 convolutional layers\n",
        "\n",
        "def Generator_mod():\n",
        "    init_fun, conv_net = stax.serial(ConvTranspose(out_chan=512, filter_shape=(4, 4), strides=(1, 1), padding=\"VALID\", W_init=initializers.normal(stddev=0.02)),\n",
        "                                    BatchNorm(), \n",
        "                                    Relu,\n",
        "                                    ConvTranspose(out_chan=256, filter_shape=(4, 4), strides=(2, 2)),padding=\"SAME\"), \n",
        "                                    BatchNorm(), \n",
        "                                    Relu,\n",
        "                                    ConvTranspose(out_chan=1, filter_shape=(4, 4), strides=(2, 2), padding=\"SAME\"), \n",
        "                                    Tanh)\n",
        "                                     \n",
        "    return init_fun, conv_net\n",
        "\n",
        "def Discriminator_mod():\n",
        "    init_fun, conv_net = stax.serial(Conv(out_chan=256, filter_shape=(4, 4), strides=(2, 2), padding=\"SAME\"),\n",
        "                                    BatchNorm(),\n",
        "                                    Relu,\n",
        "                                    Conv(out_chan=512, filter_shape=(4, 4), strides=(2, 2), padding=\"SAME\"),\n",
        "                                    BatchNorm(), \n",
        "                                    Relu,\n",
        "                                    Dense(out_dim=1))\n",
        "    return init_fun, conv_net"
      ],
      "execution_count": 27,
      "outputs": []
    },
    {
      "cell_type": "code",
      "metadata": {
        "id": "Upf7a6100gZu"
      },
      "source": [
        "class WGAN:\n",
        "    # Initialize the class\n",
        "    def __init__(self, init_key):\n",
        "\n",
        "      # Set up network initialization and evaluation functions\n",
        "        self.G_init, self.G_apply = Generator_mod()\n",
        "        self.D_init, self.D_apply = Discriminator2_mod()\n",
        "        \n",
        "        #from paper\n",
        "        #weight clipping\n",
        "        self.c = 0.01\n",
        "        #learning rate\n",
        "        self.alpha = 0.00005\n",
        "        #batch size\n",
        "        self.batch_size = 64\n",
        "        #iterations of critic before 1 generator \n",
        "        self.n_critic = 5\n",
        "\n",
        "        # Initialize parameters, not committing to a batch shape\n",
        "        k1, k2 = random.split(init_key, 2)\n",
        "        _, G_params = self.G_init(k1, (-1, 1, 1, 100))\n",
        "        _, D_params = self.D_init(k2, (-1, 64, 64, 1))\n",
        "\n",
        "        # Use optimizers to set optimizer initialization and update functions\n",
        "        self.G_opt_init, \\\n",
        "        self.G_opt_update, \\\n",
        "        self.G_get_params = optimizers.rmsprop(step_size = self.alpha)\n",
        "        self.G_opt_state = self.G_opt_init(G_params)\n",
        "\n",
        "        self.D_opt_init, \\\n",
        "        self.D_opt_update, \\\n",
        "        self.D_get_params = optimizers.rmsprop(step_size = self.alpha)\n",
        "        self.D_opt_state = self.D_opt_init(D_params)\n",
        "\n",
        "        # Logger\n",
        "        self.G_itercount = itertools.count()\n",
        "        self.D_itercount = itertools.count()\n",
        "        self.batch_count = itertools.count()\n",
        "        \n",
        "        #removed log\n",
        "        self.G_loss = []\n",
        "        self.D_loss = [] \n",
        "\n",
        "\n",
        "    @partial(jit, static_argnums=(0,))\n",
        "    def loss_G(self, G_params, D_params, batch):\n",
        "        _, Z = batch\n",
        "        # Generate fake image\n",
        "        fake_image = self.G_apply(G_params, Z)\n",
        "        # Evaluate discriminator output\n",
        "        fake_logits = self.D_apply(D_params, fake_image)\n",
        "        #loss function for generator\n",
        "        # removed negative sign\n",
        "        loss = onp.mean(fake_logits) \n",
        "        return loss\n",
        "\n",
        "    @partial(jit, static_argnums=(0,))\n",
        "    def loss_D(self, G_params, D_params, batch):\n",
        "        X, Z = batch\n",
        "        \n",
        "        # Generate fake image\n",
        "        fake_image = self.G_apply(G_params, Z)\n",
        "        \n",
        "        # Evaluate discriminator output for real and fake images\n",
        "        real_logits = self.D_apply(D_params, X)\n",
        "        fake_logits = self.D_apply(D_params, fake_image)\n",
        "        \n",
        "        # Compute Wasserstein Loss\n",
        "        wasserstein_loss = onp.mean(real_logits) - onp.mean(fake_logits)\n",
        "        #wasserstein_loss = real_logits - fake_logits\n",
        "        return wasserstein_loss\n",
        "\n",
        "\n",
        "    # Define a compiled update step for generator\n",
        "    @partial(jit, static_argnums=(0,))\n",
        "    def G_step(self, i, G_opt_state, D_opt_state, batch):\n",
        "        G_params = self.G_get_params(G_opt_state)\n",
        "        D_params = self.D_get_params(D_opt_state)\n",
        "        #gradient of loss function\n",
        "        g = grad(self.loss_G, 0)(G_params, D_params, batch)\n",
        "        return self.G_opt_update(i, g, G_opt_state)\n",
        "\n",
        "\n",
        "    # Define a compiled update step\n",
        "    #clipping params at c = 0.01\n",
        "    @partial(jit, static_argnums=(0,))\n",
        "    def D_step(self, i, G_opt_state, D_opt_state, batch):\n",
        "        G_params = self.G_get_params(G_opt_state)\n",
        "        D_params = self.D_get_params(D_opt_state)\n",
        "        g = grad(self.loss_D, 1)(G_params, D_params, batch)\n",
        "        #clipping gradient before updating discriminator params\n",
        "        g_clip = optimizers.clip_grads(g, self.c)\n",
        "        return self.D_opt_update(i, g_clip, D_opt_state)\n",
        "\n",
        "\n",
        "\n",
        "    @partial(jit, static_argnums=(0,))\n",
        "    def fetch_batch(self, rng_key, inputs):\n",
        "        batch_size = inputs.shape[0]\n",
        "        X = inputs.reshape(batch_size, 64, 64, 1) # Inputs need to be (batch_size, width, height, channels)\n",
        "        Z = random.normal(rng_key, (batch_size, 1, 1, 100))\n",
        "        return X, Z\n",
        "\n",
        "    # Optimize parameters in a loop\n",
        "    def train(self, train_loader, num_epochs = 5):\n",
        "       \n",
        "        pbar = trange(num_epochs)\n",
        "        \n",
        "        for epoch in pbar:\n",
        "          print(\"\")\n",
        "          #update critic params n_critic times\n",
        "          for t in range(self.n_critic):\n",
        "            print(\"Critic Update: {}\".format(t))\n",
        "\n",
        "            for batch_idx, (inputs, _) in enumerate(train_loader):\n",
        "\n",
        "                key = random.PRNGKey(next(self.batch_count))\n",
        "                \n",
        "                #k1, k2 = random.split(random.PRNGKey(next(self.batch_count)), 2)\n",
        "                \n",
        "                # Update discriminator (critic)\n",
        "                batch = self.fetch_batch(key, np.array(inputs))\n",
        "                self.D_opt_state = self.D_step(next(self.D_itercount), \n",
        "                                                    self.G_opt_state, \n",
        "                                                    self.D_opt_state,\n",
        "                                                    batch)\n",
        "                #print(\"Critic Loss for update {}: {}\".format(t, self.loss_D(G_params, D_params, batch)))\n",
        "\n",
        "          # Update generator params 1x\n",
        "          for batch_idx, (inputs, _) in enumerate(train_loader):\n",
        "\n",
        "              key = random.PRNGKey(next(self.batch_count))\n",
        "              \n",
        "              batch = self.fetch_batch(key, np.array(inputs))\n",
        "              self.G_opt_state = self.G_step(next(self.G_itercount), \n",
        "                                                    self.G_opt_state, \n",
        "                                                    self.D_opt_state,\n",
        "                                                    batch)\n",
        "          # Logger\n",
        "          G_params = self.G_get_params(self.G_opt_state)\n",
        "          D_params = self.D_get_params(self.D_opt_state)\n",
        "\n",
        "          loss_G = self.loss_G(G_params, D_params, batch)\n",
        "          loss_D = self.loss_D(G_params, D_params, batch)\n",
        "\n",
        "          self.G_loss.append(loss_G)\n",
        "          self.D_loss.append(loss_D)\n",
        "          pbar.set_postfix({'Generator loss': loss_G, 'Critic loss': loss_D})\n",
        "\n",
        "    @partial(jit, static_argnums=(0,))\n",
        "    def generate(self, rng_key, G_params):\n",
        "        Z = random.normal(rng_key, (1, 1, 1, 100))\n",
        "        fake_image = self.G_apply(G_params, Z)\n",
        "        return fake_image"
      ],
      "execution_count": 36,
      "outputs": []
    },
    {
      "cell_type": "code",
      "metadata": {
        "id": "TKiRdQ8C0gZv"
      },
      "source": [
        "# Initialize model\n",
        "init_key = random.PRNGKey(0)\n",
        "model = WGAN(init_key)"
      ],
      "execution_count": 37,
      "outputs": []
    },
    {
      "cell_type": "code",
      "metadata": {
        "colab": {
          "base_uri": "https://localhost:8080/"
        },
        "id": "LHV05wWj0gZv",
        "outputId": "fe27ff3c-8da4-4611-acf3-236f3fd0cf22"
      },
      "source": [
        "#using sample of 5000 for training \n",
        "model.train(mod_train_loader, num_epochs = 100)"
      ],
      "execution_count": 38,
      "outputs": [
        {
          "output_type": "stream",
          "text": [
            "\n",
            "\n",
            "  0%|          | 0/100 [00:00<?, ?it/s]\u001b[A\u001b[A"
          ],
          "name": "stderr"
        },
        {
          "output_type": "stream",
          "text": [
            "\n",
            "Critic Update: 0\n",
            "Critic Update: 1\n",
            "Critic Update: 2\n",
            "Critic Update: 3\n",
            "Critic Update: 4\n"
          ],
          "name": "stdout"
        },
        {
          "output_type": "stream",
          "text": [
            "\n",
            "\n",
            "  0%|          | 0/100 [00:51<?, ?it/s, Generator loss=0.12756355, Critic loss=-1.0562274]\u001b[A\u001b[A\n",
            "\n",
            "  1%|          | 1/100 [00:51<1:25:39, 51.91s/it, Generator loss=0.12756355, Critic loss=-1.0562274]\u001b[A\u001b[A"
          ],
          "name": "stderr"
        },
        {
          "output_type": "stream",
          "text": [
            "\n",
            "Critic Update: 0\n",
            "Critic Update: 1\n",
            "Critic Update: 2\n",
            "Critic Update: 3\n",
            "Critic Update: 4\n"
          ],
          "name": "stdout"
        },
        {
          "output_type": "stream",
          "text": [
            "\n",
            "\n",
            "  1%|          | 1/100 [01:27<1:25:39, 51.91s/it, Generator loss=0.5432003, Critic loss=-1.4581733] \u001b[A\u001b[A\n",
            "\n",
            "  2%|▏         | 2/100 [01:27<1:17:01, 47.15s/it, Generator loss=0.5432003, Critic loss=-1.4581733]\u001b[A\u001b[A"
          ],
          "name": "stderr"
        },
        {
          "output_type": "stream",
          "text": [
            "\n",
            "Critic Update: 0\n",
            "Critic Update: 1\n",
            "Critic Update: 2\n",
            "Critic Update: 3\n",
            "Critic Update: 4\n"
          ],
          "name": "stdout"
        },
        {
          "output_type": "stream",
          "text": [
            "\n",
            "\n",
            "  2%|▏         | 2/100 [02:04<1:17:01, 47.15s/it, Generator loss=0.68774277, Critic loss=-1.4980948]\u001b[A\u001b[A\n",
            "\n",
            "  3%|▎         | 3/100 [02:04<1:11:09, 44.01s/it, Generator loss=0.68774277, Critic loss=-1.4980948]\u001b[A\u001b[A"
          ],
          "name": "stderr"
        },
        {
          "output_type": "stream",
          "text": [
            "\n",
            "Critic Update: 0\n",
            "Critic Update: 1\n",
            "Critic Update: 2\n",
            "Critic Update: 3\n",
            "Critic Update: 4\n"
          ],
          "name": "stdout"
        },
        {
          "output_type": "stream",
          "text": [
            "\n",
            "\n",
            "  3%|▎         | 3/100 [02:41<1:11:09, 44.01s/it, Generator loss=0.43425354, Critic loss=-1.6064917]\u001b[A\u001b[A\n",
            "\n",
            "  4%|▍         | 4/100 [02:41<1:07:10, 41.99s/it, Generator loss=0.43425354, Critic loss=-1.6064917]\u001b[A\u001b[A"
          ],
          "name": "stderr"
        },
        {
          "output_type": "stream",
          "text": [
            "\n",
            "Critic Update: 0\n",
            "Critic Update: 1\n",
            "Critic Update: 2\n",
            "Critic Update: 3\n",
            "Critic Update: 4\n"
          ],
          "name": "stdout"
        },
        {
          "output_type": "stream",
          "text": [
            "\n",
            "\n",
            "  4%|▍         | 4/100 [03:19<1:07:10, 41.99s/it, Generator loss=1.3329184, Critic loss=-2.4308832] \u001b[A\u001b[A\n",
            "\n",
            "  5%|▌         | 5/100 [03:19<1:04:27, 40.71s/it, Generator loss=1.3329184, Critic loss=-2.4308832]\u001b[A\u001b[A"
          ],
          "name": "stderr"
        },
        {
          "output_type": "stream",
          "text": [
            "\n",
            "Critic Update: 0\n",
            "Critic Update: 1\n",
            "Critic Update: 2\n",
            "Critic Update: 3\n",
            "Critic Update: 4\n"
          ],
          "name": "stdout"
        },
        {
          "output_type": "stream",
          "text": [
            "\n",
            "\n",
            "  5%|▌         | 5/100 [03:57<1:04:27, 40.71s/it, Generator loss=1.2208991, Critic loss=-2.1612945]\u001b[A\u001b[A\n",
            "\n",
            "  6%|▌         | 6/100 [03:57<1:02:30, 39.90s/it, Generator loss=1.2208991, Critic loss=-2.1612945]\u001b[A\u001b[A"
          ],
          "name": "stderr"
        },
        {
          "output_type": "stream",
          "text": [
            "\n",
            "Critic Update: 0\n",
            "Critic Update: 1\n",
            "Critic Update: 2\n",
            "Critic Update: 3\n",
            "Critic Update: 4\n"
          ],
          "name": "stdout"
        },
        {
          "output_type": "stream",
          "text": [
            "\n",
            "\n",
            "  6%|▌         | 6/100 [04:35<1:02:30, 39.90s/it, Generator loss=1.9040486, Critic loss=-3.1591053]\u001b[A\u001b[A\n",
            "\n",
            "  7%|▋         | 7/100 [04:35<1:00:58, 39.34s/it, Generator loss=1.9040486, Critic loss=-3.1591053]\u001b[A\u001b[A"
          ],
          "name": "stderr"
        },
        {
          "output_type": "stream",
          "text": [
            "\n",
            "Critic Update: 0\n",
            "Critic Update: 1\n",
            "Critic Update: 2\n",
            "Critic Update: 3\n",
            "Critic Update: 4\n"
          ],
          "name": "stdout"
        },
        {
          "output_type": "stream",
          "text": [
            "\n",
            "\n",
            "  7%|▋         | 7/100 [05:13<1:00:58, 39.34s/it, Generator loss=2.251042, Critic loss=-3.2736425] \u001b[A\u001b[A\n",
            "\n",
            "  8%|▊         | 8/100 [05:13<59:45, 38.98s/it, Generator loss=2.251042, Critic loss=-3.2736425]  \u001b[A\u001b[A"
          ],
          "name": "stderr"
        },
        {
          "output_type": "stream",
          "text": [
            "\n",
            "Critic Update: 0\n",
            "Critic Update: 1\n",
            "Critic Update: 2\n",
            "Critic Update: 3\n",
            "Critic Update: 4\n"
          ],
          "name": "stdout"
        },
        {
          "output_type": "stream",
          "text": [
            "\n",
            "\n",
            "  8%|▊         | 8/100 [05:51<59:45, 38.98s/it, Generator loss=2.4556894, Critic loss=-3.975605]\u001b[A\u001b[A\n",
            "\n",
            "  9%|▉         | 9/100 [05:51<58:43, 38.72s/it, Generator loss=2.4556894, Critic loss=-3.975605]\u001b[A\u001b[A"
          ],
          "name": "stderr"
        },
        {
          "output_type": "stream",
          "text": [
            "\n",
            "Critic Update: 0\n",
            "Critic Update: 1\n",
            "Critic Update: 2\n",
            "Critic Update: 3\n",
            "Critic Update: 4\n"
          ],
          "name": "stdout"
        },
        {
          "output_type": "stream",
          "text": [
            "\n",
            "\n",
            "  9%|▉         | 9/100 [06:30<58:43, 38.72s/it, Generator loss=2.903064, Critic loss=-4.509227] \u001b[A\u001b[A\n",
            "\n",
            " 10%|█         | 10/100 [06:30<57:52, 38.58s/it, Generator loss=2.903064, Critic loss=-4.509227]\u001b[A\u001b[A"
          ],
          "name": "stderr"
        },
        {
          "output_type": "stream",
          "text": [
            "\n",
            "Critic Update: 0\n",
            "Critic Update: 1\n",
            "Critic Update: 2\n",
            "Critic Update: 3\n",
            "Critic Update: 4\n"
          ],
          "name": "stdout"
        },
        {
          "output_type": "stream",
          "text": [
            "\n",
            "\n",
            " 10%|█         | 10/100 [07:08<57:52, 38.58s/it, Generator loss=3.1852908, Critic loss=-4.572419]\u001b[A\u001b[A\n",
            "\n",
            " 11%|█         | 11/100 [07:08<57:03, 38.47s/it, Generator loss=3.1852908, Critic loss=-4.572419]\u001b[A\u001b[A"
          ],
          "name": "stderr"
        },
        {
          "output_type": "stream",
          "text": [
            "\n",
            "Critic Update: 0\n",
            "Critic Update: 1\n",
            "Critic Update: 2\n",
            "Critic Update: 3\n",
            "Critic Update: 4\n"
          ],
          "name": "stdout"
        },
        {
          "output_type": "stream",
          "text": [
            "\n",
            "\n",
            " 11%|█         | 11/100 [07:46<57:03, 38.47s/it, Generator loss=3.527984, Critic loss=-5.8568]   \u001b[A\u001b[A\n",
            "\n",
            " 12%|█▏        | 12/100 [07:46<56:19, 38.40s/it, Generator loss=3.527984, Critic loss=-5.8568]\u001b[A\u001b[A"
          ],
          "name": "stderr"
        },
        {
          "output_type": "stream",
          "text": [
            "\n",
            "Critic Update: 0\n",
            "Critic Update: 1\n",
            "Critic Update: 2\n",
            "Critic Update: 3\n",
            "Critic Update: 4\n"
          ],
          "name": "stdout"
        },
        {
          "output_type": "stream",
          "text": [
            "\n",
            "\n",
            " 12%|█▏        | 12/100 [08:24<56:19, 38.40s/it, Generator loss=3.946063, Critic loss=-5.991935]\u001b[A\u001b[A\n",
            "\n",
            " 13%|█▎        | 13/100 [08:24<55:38, 38.37s/it, Generator loss=3.946063, Critic loss=-5.991935]\u001b[A\u001b[A"
          ],
          "name": "stderr"
        },
        {
          "output_type": "stream",
          "text": [
            "\n",
            "Critic Update: 0\n",
            "Critic Update: 1\n",
            "Critic Update: 2\n",
            "Critic Update: 3\n",
            "Critic Update: 4\n"
          ],
          "name": "stdout"
        },
        {
          "output_type": "stream",
          "text": [
            "\n",
            "\n",
            " 13%|█▎        | 13/100 [09:03<55:38, 38.37s/it, Generator loss=4.1235704, Critic loss=-5.4544864]\u001b[A\u001b[A\n",
            "\n",
            " 14%|█▍        | 14/100 [09:03<54:55, 38.32s/it, Generator loss=4.1235704, Critic loss=-5.4544864]\u001b[A\u001b[A"
          ],
          "name": "stderr"
        },
        {
          "output_type": "stream",
          "text": [
            "\n",
            "Critic Update: 0\n",
            "Critic Update: 1\n",
            "Critic Update: 2\n",
            "Critic Update: 3\n",
            "Critic Update: 4\n"
          ],
          "name": "stdout"
        },
        {
          "output_type": "stream",
          "text": [
            "\n",
            "\n",
            " 14%|█▍        | 14/100 [09:41<54:55, 38.32s/it, Generator loss=4.0647273, Critic loss=-6.55539]  \u001b[A\u001b[A\n",
            "\n",
            " 15%|█▌        | 15/100 [09:41<54:15, 38.30s/it, Generator loss=4.0647273, Critic loss=-6.55539]\u001b[A\u001b[A"
          ],
          "name": "stderr"
        },
        {
          "output_type": "stream",
          "text": [
            "\n",
            "Critic Update: 0\n",
            "Critic Update: 1\n",
            "Critic Update: 2\n",
            "Critic Update: 3\n",
            "Critic Update: 4\n"
          ],
          "name": "stdout"
        },
        {
          "output_type": "stream",
          "text": [
            "\n",
            "\n",
            " 15%|█▌        | 15/100 [10:19<54:15, 38.30s/it, Generator loss=4.5481224, Critic loss=-6.7015266]\u001b[A\u001b[A\n",
            "\n",
            " 16%|█▌        | 16/100 [10:19<53:39, 38.33s/it, Generator loss=4.5481224, Critic loss=-6.7015266]\u001b[A\u001b[A"
          ],
          "name": "stderr"
        },
        {
          "output_type": "stream",
          "text": [
            "\n",
            "Critic Update: 0\n",
            "Critic Update: 1\n",
            "Critic Update: 2\n",
            "Critic Update: 3\n",
            "Critic Update: 4\n"
          ],
          "name": "stdout"
        },
        {
          "output_type": "stream",
          "text": [
            "\n",
            "\n",
            " 16%|█▌        | 16/100 [10:58<53:39, 38.33s/it, Generator loss=3.7332196, Critic loss=-5.0937905]\u001b[A\u001b[A\n",
            "\n",
            " 17%|█▋        | 17/100 [10:58<53:05, 38.38s/it, Generator loss=3.7332196, Critic loss=-5.0937905]\u001b[A\u001b[A"
          ],
          "name": "stderr"
        },
        {
          "output_type": "stream",
          "text": [
            "\n",
            "Critic Update: 0\n",
            "Critic Update: 1\n",
            "Critic Update: 2\n",
            "Critic Update: 3\n",
            "Critic Update: 4\n"
          ],
          "name": "stdout"
        },
        {
          "output_type": "stream",
          "text": [
            "\n",
            "\n",
            " 17%|█▋        | 17/100 [11:36<53:05, 38.38s/it, Generator loss=3.222574, Critic loss=-4.8899117] \u001b[A\u001b[A\n",
            "\n",
            " 18%|█▊        | 18/100 [11:36<52:23, 38.34s/it, Generator loss=3.222574, Critic loss=-4.8899117]\u001b[A\u001b[A"
          ],
          "name": "stderr"
        },
        {
          "output_type": "stream",
          "text": [
            "\n",
            "Critic Update: 0\n",
            "Critic Update: 1\n",
            "Critic Update: 2\n",
            "Critic Update: 3\n",
            "Critic Update: 4\n"
          ],
          "name": "stdout"
        },
        {
          "output_type": "stream",
          "text": [
            "\n",
            "\n",
            " 18%|█▊        | 18/100 [12:14<52:23, 38.34s/it, Generator loss=3.0229187, Critic loss=-4.2084446]\u001b[A\u001b[A\n",
            "\n",
            " 19%|█▉        | 19/100 [12:14<51:48, 38.37s/it, Generator loss=3.0229187, Critic loss=-4.2084446]\u001b[A\u001b[A"
          ],
          "name": "stderr"
        },
        {
          "output_type": "stream",
          "text": [
            "\n",
            "Critic Update: 0\n",
            "Critic Update: 1\n",
            "Critic Update: 2\n",
            "Critic Update: 3\n",
            "Critic Update: 4\n"
          ],
          "name": "stdout"
        },
        {
          "output_type": "stream",
          "text": [
            "\n",
            "\n",
            " 19%|█▉        | 19/100 [12:53<51:48, 38.37s/it, Generator loss=2.2829595, Critic loss=-3.3499348]\u001b[A\u001b[A\n",
            "\n",
            " 20%|██        | 20/100 [12:53<51:11, 38.40s/it, Generator loss=2.2829595, Critic loss=-3.3499348]\u001b[A\u001b[A"
          ],
          "name": "stderr"
        },
        {
          "output_type": "stream",
          "text": [
            "\n",
            "Critic Update: 0\n",
            "Critic Update: 1\n",
            "Critic Update: 2\n",
            "Critic Update: 3\n",
            "Critic Update: 4\n"
          ],
          "name": "stdout"
        },
        {
          "output_type": "stream",
          "text": [
            "\n",
            "\n",
            " 20%|██        | 20/100 [13:31<51:11, 38.40s/it, Generator loss=3.1270604, Critic loss=-4.3108535]\u001b[A\u001b[A\n",
            "\n",
            " 21%|██        | 21/100 [13:31<50:31, 38.37s/it, Generator loss=3.1270604, Critic loss=-4.3108535]\u001b[A\u001b[A"
          ],
          "name": "stderr"
        },
        {
          "output_type": "stream",
          "text": [
            "\n",
            "Critic Update: 0\n",
            "Critic Update: 1\n",
            "Critic Update: 2\n",
            "Critic Update: 3\n",
            "Critic Update: 4\n"
          ],
          "name": "stdout"
        },
        {
          "output_type": "stream",
          "text": [
            "\n",
            "\n",
            " 21%|██        | 21/100 [14:10<50:31, 38.37s/it, Generator loss=3.0385926, Critic loss=-3.8855402]\u001b[A\u001b[A\n",
            "\n",
            " 22%|██▏       | 22/100 [14:10<49:53, 38.38s/it, Generator loss=3.0385926, Critic loss=-3.8855402]\u001b[A\u001b[A"
          ],
          "name": "stderr"
        },
        {
          "output_type": "stream",
          "text": [
            "\n",
            "Critic Update: 0\n",
            "Critic Update: 1\n",
            "Critic Update: 2\n",
            "Critic Update: 3\n",
            "Critic Update: 4\n"
          ],
          "name": "stdout"
        },
        {
          "output_type": "stream",
          "text": [
            "\n",
            "\n",
            " 22%|██▏       | 22/100 [14:48<49:53, 38.38s/it, Generator loss=3.2200212, Critic loss=-3.6647766]\u001b[A\u001b[A\n",
            "\n",
            " 23%|██▎       | 23/100 [14:48<49:15, 38.38s/it, Generator loss=3.2200212, Critic loss=-3.6647766]\u001b[A\u001b[A"
          ],
          "name": "stderr"
        },
        {
          "output_type": "stream",
          "text": [
            "\n",
            "Critic Update: 0\n",
            "Critic Update: 1\n",
            "Critic Update: 2\n",
            "Critic Update: 3\n",
            "Critic Update: 4\n"
          ],
          "name": "stdout"
        },
        {
          "output_type": "stream",
          "text": [
            "\n",
            "\n",
            " 23%|██▎       | 23/100 [15:26<49:15, 38.38s/it, Generator loss=2.8070004, Critic loss=-3.4865477]\u001b[A\u001b[A\n",
            "\n",
            " 24%|██▍       | 24/100 [15:26<48:36, 38.37s/it, Generator loss=2.8070004, Critic loss=-3.4865477]\u001b[A\u001b[A"
          ],
          "name": "stderr"
        },
        {
          "output_type": "stream",
          "text": [
            "\n",
            "Critic Update: 0\n",
            "Critic Update: 1\n",
            "Critic Update: 2\n",
            "Critic Update: 3\n",
            "Critic Update: 4\n"
          ],
          "name": "stdout"
        },
        {
          "output_type": "stream",
          "text": [
            "\n",
            "\n",
            " 24%|██▍       | 24/100 [16:05<48:36, 38.37s/it, Generator loss=3.8119845, Critic loss=-3.9666598]\u001b[A\u001b[A\n",
            "\n",
            " 25%|██▌       | 25/100 [16:05<47:58, 38.38s/it, Generator loss=3.8119845, Critic loss=-3.9666598]\u001b[A\u001b[A"
          ],
          "name": "stderr"
        },
        {
          "output_type": "stream",
          "text": [
            "\n",
            "Critic Update: 0\n",
            "Critic Update: 1\n",
            "Critic Update: 2\n",
            "Critic Update: 3\n",
            "Critic Update: 4\n"
          ],
          "name": "stdout"
        },
        {
          "output_type": "stream",
          "text": [
            "\n",
            "\n",
            " 25%|██▌       | 25/100 [16:43<47:58, 38.38s/it, Generator loss=4.1705785, Critic loss=-3.7583544]\u001b[A\u001b[A\n",
            "\n",
            " 26%|██▌       | 26/100 [16:43<47:20, 38.39s/it, Generator loss=4.1705785, Critic loss=-3.7583544]\u001b[A\u001b[A"
          ],
          "name": "stderr"
        },
        {
          "output_type": "stream",
          "text": [
            "\n",
            "Critic Update: 0\n",
            "Critic Update: 1\n",
            "Critic Update: 2\n",
            "Critic Update: 3\n",
            "Critic Update: 4\n"
          ],
          "name": "stdout"
        },
        {
          "output_type": "stream",
          "text": [
            "\n",
            "\n",
            " 26%|██▌       | 26/100 [17:22<47:20, 38.39s/it, Generator loss=3.5839837, Critic loss=-3.3415143]\u001b[A\u001b[A\n",
            "\n",
            " 27%|██▋       | 27/100 [17:22<46:42, 38.39s/it, Generator loss=3.5839837, Critic loss=-3.3415143]\u001b[A\u001b[A"
          ],
          "name": "stderr"
        },
        {
          "output_type": "stream",
          "text": [
            "\n",
            "Critic Update: 0\n",
            "Critic Update: 1\n",
            "Critic Update: 2\n",
            "Critic Update: 3\n",
            "Critic Update: 4\n"
          ],
          "name": "stdout"
        },
        {
          "output_type": "stream",
          "text": [
            "\n",
            "\n",
            " 27%|██▋       | 27/100 [18:00<46:42, 38.39s/it, Generator loss=5.0047803, Critic loss=-4.6448717]\u001b[A\u001b[A\n",
            "\n",
            " 28%|██▊       | 28/100 [18:00<46:04, 38.39s/it, Generator loss=5.0047803, Critic loss=-4.6448717]\u001b[A\u001b[A"
          ],
          "name": "stderr"
        },
        {
          "output_type": "stream",
          "text": [
            "\n",
            "Critic Update: 0\n",
            "Critic Update: 1\n",
            "Critic Update: 2\n",
            "Critic Update: 3\n",
            "Critic Update: 4\n"
          ],
          "name": "stdout"
        },
        {
          "output_type": "stream",
          "text": [
            "\n",
            "\n",
            " 28%|██▊       | 28/100 [18:38<46:04, 38.39s/it, Generator loss=4.322226, Critic loss=-4.6041036] \u001b[A\u001b[A\n",
            "\n",
            " 29%|██▉       | 29/100 [18:38<45:26, 38.40s/it, Generator loss=4.322226, Critic loss=-4.6041036]\u001b[A\u001b[A"
          ],
          "name": "stderr"
        },
        {
          "output_type": "stream",
          "text": [
            "\n",
            "Critic Update: 0\n",
            "Critic Update: 1\n",
            "Critic Update: 2\n",
            "Critic Update: 3\n",
            "Critic Update: 4\n"
          ],
          "name": "stdout"
        },
        {
          "output_type": "stream",
          "text": [
            "\n",
            "\n",
            " 29%|██▉       | 29/100 [19:17<45:26, 38.40s/it, Generator loss=4.3674736, Critic loss=-3.7936282]\u001b[A\u001b[A\n",
            "\n",
            " 30%|███       | 30/100 [19:17<44:47, 38.39s/it, Generator loss=4.3674736, Critic loss=-3.7936282]\u001b[A\u001b[A"
          ],
          "name": "stderr"
        },
        {
          "output_type": "stream",
          "text": [
            "\n",
            "Critic Update: 0\n",
            "Critic Update: 1\n",
            "Critic Update: 2\n",
            "Critic Update: 3\n",
            "Critic Update: 4\n"
          ],
          "name": "stdout"
        },
        {
          "output_type": "stream",
          "text": [
            "\n",
            "\n",
            " 30%|███       | 30/100 [19:55<44:47, 38.39s/it, Generator loss=5.399534, Critic loss=-4.758767]  \u001b[A\u001b[A\n",
            "\n",
            " 31%|███       | 31/100 [19:55<44:07, 38.36s/it, Generator loss=5.399534, Critic loss=-4.758767]\u001b[A\u001b[A"
          ],
          "name": "stderr"
        },
        {
          "output_type": "stream",
          "text": [
            "\n",
            "Critic Update: 0\n",
            "Critic Update: 1\n",
            "Critic Update: 2\n",
            "Critic Update: 3\n",
            "Critic Update: 4\n"
          ],
          "name": "stdout"
        },
        {
          "output_type": "stream",
          "text": [
            "\n",
            "\n",
            " 31%|███       | 31/100 [20:33<44:07, 38.36s/it, Generator loss=5.585225, Critic loss=-5.4885416]\u001b[A\u001b[A\n",
            "\n",
            " 32%|███▏      | 32/100 [20:33<43:28, 38.36s/it, Generator loss=5.585225, Critic loss=-5.4885416]\u001b[A\u001b[A"
          ],
          "name": "stderr"
        },
        {
          "output_type": "stream",
          "text": [
            "\n",
            "Critic Update: 0\n",
            "Critic Update: 1\n",
            "Critic Update: 2\n",
            "Critic Update: 3\n",
            "Critic Update: 4\n"
          ],
          "name": "stdout"
        },
        {
          "output_type": "stream",
          "text": [
            "\n",
            "\n",
            " 32%|███▏      | 32/100 [21:12<43:28, 38.36s/it, Generator loss=5.2352076, Critic loss=-4.816635]\u001b[A\u001b[A\n",
            "\n",
            " 33%|███▎      | 33/100 [21:12<42:51, 38.37s/it, Generator loss=5.2352076, Critic loss=-4.816635]\u001b[A\u001b[A"
          ],
          "name": "stderr"
        },
        {
          "output_type": "stream",
          "text": [
            "\n",
            "Critic Update: 0\n",
            "Critic Update: 1\n",
            "Critic Update: 2\n",
            "Critic Update: 3\n",
            "Critic Update: 4\n"
          ],
          "name": "stdout"
        },
        {
          "output_type": "stream",
          "text": [
            "\n",
            "\n",
            " 33%|███▎      | 33/100 [21:50<42:51, 38.37s/it, Generator loss=5.173604, Critic loss=-3.834898] \u001b[A\u001b[A\n",
            "\n",
            " 34%|███▍      | 34/100 [21:50<42:13, 38.38s/it, Generator loss=5.173604, Critic loss=-3.834898]\u001b[A\u001b[A"
          ],
          "name": "stderr"
        },
        {
          "output_type": "stream",
          "text": [
            "\n",
            "Critic Update: 0\n",
            "Critic Update: 1\n",
            "Critic Update: 2\n",
            "Critic Update: 3\n",
            "Critic Update: 4\n"
          ],
          "name": "stdout"
        },
        {
          "output_type": "stream",
          "text": [
            "\n",
            "\n",
            " 34%|███▍      | 34/100 [22:29<42:13, 38.38s/it, Generator loss=6.131518, Critic loss=-4.4472885]\u001b[A\u001b[A\n",
            "\n",
            " 35%|███▌      | 35/100 [22:29<41:36, 38.40s/it, Generator loss=6.131518, Critic loss=-4.4472885]\u001b[A\u001b[A"
          ],
          "name": "stderr"
        },
        {
          "output_type": "stream",
          "text": [
            "\n",
            "Critic Update: 0\n",
            "Critic Update: 1\n",
            "Critic Update: 2\n",
            "Critic Update: 3\n",
            "Critic Update: 4\n"
          ],
          "name": "stdout"
        },
        {
          "output_type": "stream",
          "text": [
            "\n",
            "\n",
            " 35%|███▌      | 35/100 [23:07<41:36, 38.40s/it, Generator loss=5.9257956, Critic loss=-5.5224895]\u001b[A\u001b[A\n",
            "\n",
            " 36%|███▌      | 36/100 [23:07<40:57, 38.40s/it, Generator loss=5.9257956, Critic loss=-5.5224895]\u001b[A\u001b[A"
          ],
          "name": "stderr"
        },
        {
          "output_type": "stream",
          "text": [
            "\n",
            "Critic Update: 0\n",
            "Critic Update: 1\n",
            "Critic Update: 2\n",
            "Critic Update: 3\n",
            "Critic Update: 4\n"
          ],
          "name": "stdout"
        },
        {
          "output_type": "stream",
          "text": [
            "\n",
            "\n",
            " 36%|███▌      | 36/100 [23:45<40:57, 38.40s/it, Generator loss=6.1361938, Critic loss=-5.488612] \u001b[A\u001b[A\n",
            "\n",
            " 37%|███▋      | 37/100 [23:45<40:19, 38.41s/it, Generator loss=6.1361938, Critic loss=-5.488612]\u001b[A\u001b[A"
          ],
          "name": "stderr"
        },
        {
          "output_type": "stream",
          "text": [
            "\n",
            "Critic Update: 0\n",
            "Critic Update: 1\n",
            "Critic Update: 2\n",
            "Critic Update: 3\n",
            "Critic Update: 4\n"
          ],
          "name": "stdout"
        },
        {
          "output_type": "stream",
          "text": [
            "\n",
            "\n",
            " 37%|███▋      | 37/100 [24:24<40:19, 38.41s/it, Generator loss=6.8321347, Critic loss=-5.562185]\u001b[A\u001b[A\n",
            "\n",
            " 38%|███▊      | 38/100 [24:24<39:41, 38.41s/it, Generator loss=6.8321347, Critic loss=-5.562185]\u001b[A\u001b[A"
          ],
          "name": "stderr"
        },
        {
          "output_type": "stream",
          "text": [
            "\n",
            "Critic Update: 0\n",
            "Critic Update: 1\n",
            "Critic Update: 2\n",
            "Critic Update: 3\n",
            "Critic Update: 4\n"
          ],
          "name": "stdout"
        },
        {
          "output_type": "stream",
          "text": [
            "\n",
            "\n",
            " 38%|███▊      | 38/100 [25:02<39:41, 38.41s/it, Generator loss=6.7689013, Critic loss=-6.6550756]\u001b[A\u001b[A\n",
            "\n",
            " 39%|███▉      | 39/100 [25:02<39:03, 38.42s/it, Generator loss=6.7689013, Critic loss=-6.6550756]\u001b[A\u001b[A"
          ],
          "name": "stderr"
        },
        {
          "output_type": "stream",
          "text": [
            "\n",
            "Critic Update: 0\n",
            "Critic Update: 1\n",
            "Critic Update: 2\n",
            "Critic Update: 3\n",
            "Critic Update: 4\n"
          ],
          "name": "stdout"
        },
        {
          "output_type": "stream",
          "text": [
            "\n",
            "\n",
            " 39%|███▉      | 39/100 [25:41<39:03, 38.42s/it, Generator loss=6.9334216, Critic loss=-5.4471006]\u001b[A\u001b[A\n",
            "\n",
            " 40%|████      | 40/100 [25:41<38:24, 38.41s/it, Generator loss=6.9334216, Critic loss=-5.4471006]\u001b[A\u001b[A"
          ],
          "name": "stderr"
        },
        {
          "output_type": "stream",
          "text": [
            "\n",
            "Critic Update: 0\n",
            "Critic Update: 1\n",
            "Critic Update: 2\n",
            "Critic Update: 3\n",
            "Critic Update: 4\n"
          ],
          "name": "stdout"
        },
        {
          "output_type": "stream",
          "text": [
            "\n",
            "\n",
            " 40%|████      | 40/100 [26:19<38:24, 38.41s/it, Generator loss=7.271151, Critic loss=-5.562448]  \u001b[A\u001b[A\n",
            "\n",
            " 41%|████      | 41/100 [26:19<37:45, 38.41s/it, Generator loss=7.271151, Critic loss=-5.562448]\u001b[A\u001b[A"
          ],
          "name": "stderr"
        },
        {
          "output_type": "stream",
          "text": [
            "\n",
            "Critic Update: 0\n",
            "Critic Update: 1\n",
            "Critic Update: 2\n",
            "Critic Update: 3\n",
            "Critic Update: 4\n"
          ],
          "name": "stdout"
        },
        {
          "output_type": "stream",
          "text": [
            "\n",
            "\n",
            " 41%|████      | 41/100 [26:58<37:45, 38.41s/it, Generator loss=7.193925, Critic loss=-6.4363375]\u001b[A\u001b[A\n",
            "\n",
            " 42%|████▏     | 42/100 [26:58<37:07, 38.40s/it, Generator loss=7.193925, Critic loss=-6.4363375]\u001b[A\u001b[A"
          ],
          "name": "stderr"
        },
        {
          "output_type": "stream",
          "text": [
            "\n",
            "Critic Update: 0\n",
            "Critic Update: 1\n",
            "Critic Update: 2\n",
            "Critic Update: 3\n",
            "Critic Update: 4\n"
          ],
          "name": "stdout"
        },
        {
          "output_type": "stream",
          "text": [
            "\n",
            "\n",
            " 42%|████▏     | 42/100 [27:36<37:07, 38.40s/it, Generator loss=7.2064567, Critic loss=-6.816325]\u001b[A\u001b[A\n",
            "\n",
            " 43%|████▎     | 43/100 [27:36<36:29, 38.42s/it, Generator loss=7.2064567, Critic loss=-6.816325]\u001b[A\u001b[A"
          ],
          "name": "stderr"
        },
        {
          "output_type": "stream",
          "text": [
            "\n",
            "Critic Update: 0\n",
            "Critic Update: 1\n",
            "Critic Update: 2\n",
            "Critic Update: 3\n",
            "Critic Update: 4\n"
          ],
          "name": "stdout"
        },
        {
          "output_type": "stream",
          "text": [
            "\n",
            "\n",
            " 43%|████▎     | 43/100 [28:14<36:29, 38.42s/it, Generator loss=7.3017907, Critic loss=-5.97371] \u001b[A\u001b[A\n",
            "\n",
            " 44%|████▍     | 44/100 [28:14<35:51, 38.42s/it, Generator loss=7.3017907, Critic loss=-5.97371]\u001b[A\u001b[A"
          ],
          "name": "stderr"
        },
        {
          "output_type": "stream",
          "text": [
            "\n",
            "Critic Update: 0\n",
            "Critic Update: 1\n",
            "Critic Update: 2\n",
            "Critic Update: 3\n",
            "Critic Update: 4\n"
          ],
          "name": "stdout"
        },
        {
          "output_type": "stream",
          "text": [
            "\n",
            "\n",
            " 44%|████▍     | 44/100 [28:53<35:51, 38.42s/it, Generator loss=7.0993476, Critic loss=-6.352971]\u001b[A\u001b[A\n",
            "\n",
            " 45%|████▌     | 45/100 [28:53<35:12, 38.41s/it, Generator loss=7.0993476, Critic loss=-6.352971]\u001b[A\u001b[A"
          ],
          "name": "stderr"
        },
        {
          "output_type": "stream",
          "text": [
            "\n",
            "Critic Update: 0\n",
            "Critic Update: 1\n",
            "Critic Update: 2\n",
            "Critic Update: 3\n",
            "Critic Update: 4\n"
          ],
          "name": "stdout"
        },
        {
          "output_type": "stream",
          "text": [
            "\n",
            "\n",
            " 45%|████▌     | 45/100 [29:31<35:12, 38.41s/it, Generator loss=7.3146305, Critic loss=-7.2273655]\u001b[A\u001b[A\n",
            "\n",
            " 46%|████▌     | 46/100 [29:31<34:33, 38.40s/it, Generator loss=7.3146305, Critic loss=-7.2273655]\u001b[A\u001b[A"
          ],
          "name": "stderr"
        },
        {
          "output_type": "stream",
          "text": [
            "\n",
            "Critic Update: 0\n",
            "Critic Update: 1\n",
            "Critic Update: 2\n",
            "Critic Update: 3\n",
            "Critic Update: 4\n"
          ],
          "name": "stdout"
        },
        {
          "output_type": "stream",
          "text": [
            "\n",
            "\n",
            " 46%|████▌     | 46/100 [30:10<34:33, 38.40s/it, Generator loss=7.0677967, Critic loss=-5.77074]  \u001b[A\u001b[A\n",
            "\n",
            " 47%|████▋     | 47/100 [30:10<33:54, 38.39s/it, Generator loss=7.0677967, Critic loss=-5.77074]\u001b[A\u001b[A"
          ],
          "name": "stderr"
        },
        {
          "output_type": "stream",
          "text": [
            "\n",
            "Critic Update: 0\n",
            "Critic Update: 1\n",
            "Critic Update: 2\n",
            "Critic Update: 3\n",
            "Critic Update: 4\n"
          ],
          "name": "stdout"
        },
        {
          "output_type": "stream",
          "text": [
            "\n",
            "\n",
            " 47%|████▋     | 47/100 [30:48<33:54, 38.39s/it, Generator loss=7.2373905, Critic loss=-5.9176226]\u001b[A\u001b[A\n",
            "\n",
            " 48%|████▊     | 48/100 [30:48<33:18, 38.43s/it, Generator loss=7.2373905, Critic loss=-5.9176226]\u001b[A\u001b[A"
          ],
          "name": "stderr"
        },
        {
          "output_type": "stream",
          "text": [
            "\n",
            "Critic Update: 0\n",
            "Critic Update: 1\n",
            "Critic Update: 2\n",
            "Critic Update: 3\n",
            "Critic Update: 4\n"
          ],
          "name": "stdout"
        },
        {
          "output_type": "stream",
          "text": [
            "\n",
            "\n",
            " 48%|████▊     | 48/100 [31:26<33:18, 38.43s/it, Generator loss=6.4702616, Critic loss=-5.728662] \u001b[A\u001b[A\n",
            "\n",
            " 49%|████▉     | 49/100 [31:26<32:39, 38.43s/it, Generator loss=6.4702616, Critic loss=-5.728662]\u001b[A\u001b[A"
          ],
          "name": "stderr"
        },
        {
          "output_type": "stream",
          "text": [
            "\n",
            "Critic Update: 0\n",
            "Critic Update: 1\n",
            "Critic Update: 2\n",
            "Critic Update: 3\n",
            "Critic Update: 4\n"
          ],
          "name": "stdout"
        },
        {
          "output_type": "stream",
          "text": [
            "\n",
            "\n",
            " 49%|████▉     | 49/100 [32:05<32:39, 38.43s/it, Generator loss=8.435768, Critic loss=-6.850086] \u001b[A\u001b[A\n",
            "\n",
            " 50%|█████     | 50/100 [32:05<32:01, 38.42s/it, Generator loss=8.435768, Critic loss=-6.850086]\u001b[A\u001b[A"
          ],
          "name": "stderr"
        },
        {
          "output_type": "stream",
          "text": [
            "\n",
            "Critic Update: 0\n",
            "Critic Update: 1\n",
            "Critic Update: 2\n",
            "Critic Update: 3\n",
            "Critic Update: 4\n"
          ],
          "name": "stdout"
        },
        {
          "output_type": "stream",
          "text": [
            "\n",
            "\n",
            " 50%|█████     | 50/100 [32:43<32:01, 38.42s/it, Generator loss=7.6130786, Critic loss=-6.6643586]\u001b[A\u001b[A\n",
            "\n",
            " 51%|█████     | 51/100 [32:43<31:22, 38.41s/it, Generator loss=7.6130786, Critic loss=-6.6643586]\u001b[A\u001b[A"
          ],
          "name": "stderr"
        },
        {
          "output_type": "stream",
          "text": [
            "\n",
            "Critic Update: 0\n",
            "Critic Update: 1\n",
            "Critic Update: 2\n",
            "Critic Update: 3\n",
            "Critic Update: 4\n"
          ],
          "name": "stdout"
        },
        {
          "output_type": "stream",
          "text": [
            "\n",
            "\n",
            " 51%|█████     | 51/100 [33:22<31:22, 38.41s/it, Generator loss=8.562039, Critic loss=-8.053613]  \u001b[A\u001b[A\n",
            "\n",
            " 52%|█████▏    | 52/100 [33:22<30:43, 38.40s/it, Generator loss=8.562039, Critic loss=-8.053613]\u001b[A\u001b[A"
          ],
          "name": "stderr"
        },
        {
          "output_type": "stream",
          "text": [
            "\n",
            "Critic Update: 0\n",
            "Critic Update: 1\n",
            "Critic Update: 2\n",
            "Critic Update: 3\n",
            "Critic Update: 4\n"
          ],
          "name": "stdout"
        },
        {
          "output_type": "stream",
          "text": [
            "\n",
            "\n",
            " 52%|█████▏    | 52/100 [34:00<30:43, 38.40s/it, Generator loss=8.46223, Critic loss=-7.5391393]\u001b[A\u001b[A\n",
            "\n",
            " 53%|█████▎    | 53/100 [34:00<30:04, 38.39s/it, Generator loss=8.46223, Critic loss=-7.5391393]\u001b[A\u001b[A"
          ],
          "name": "stderr"
        },
        {
          "output_type": "stream",
          "text": [
            "\n",
            "Critic Update: 0\n",
            "Critic Update: 1\n",
            "Critic Update: 2\n",
            "Critic Update: 3\n",
            "Critic Update: 4\n"
          ],
          "name": "stdout"
        },
        {
          "output_type": "stream",
          "text": [
            "\n",
            "\n",
            " 53%|█████▎    | 53/100 [34:38<30:04, 38.39s/it, Generator loss=8.47723, Critic loss=-6.1141977]\u001b[A\u001b[A\n",
            "\n",
            " 54%|█████▍    | 54/100 [34:38<29:26, 38.40s/it, Generator loss=8.47723, Critic loss=-6.1141977]\u001b[A\u001b[A"
          ],
          "name": "stderr"
        },
        {
          "output_type": "stream",
          "text": [
            "\n",
            "Critic Update: 0\n",
            "Critic Update: 1\n",
            "Critic Update: 2\n",
            "Critic Update: 3\n",
            "Critic Update: 4\n"
          ],
          "name": "stdout"
        },
        {
          "output_type": "stream",
          "text": [
            "\n",
            "\n",
            " 54%|█████▍    | 54/100 [35:17<29:26, 38.40s/it, Generator loss=8.228845, Critic loss=-7.625575]\u001b[A\u001b[A\n",
            "\n",
            " 55%|█████▌    | 55/100 [35:17<28:47, 38.40s/it, Generator loss=8.228845, Critic loss=-7.625575]\u001b[A\u001b[A"
          ],
          "name": "stderr"
        },
        {
          "output_type": "stream",
          "text": [
            "\n",
            "Critic Update: 0\n",
            "Critic Update: 1\n",
            "Critic Update: 2\n",
            "Critic Update: 3\n",
            "Critic Update: 4\n"
          ],
          "name": "stdout"
        },
        {
          "output_type": "stream",
          "text": [
            "\n",
            "\n",
            " 55%|█████▌    | 55/100 [35:55<28:47, 38.40s/it, Generator loss=8.693587, Critic loss=-7.2349033]\u001b[A\u001b[A\n",
            "\n",
            " 56%|█████▌    | 56/100 [35:55<28:09, 38.40s/it, Generator loss=8.693587, Critic loss=-7.2349033]\u001b[A\u001b[A"
          ],
          "name": "stderr"
        },
        {
          "output_type": "stream",
          "text": [
            "\n",
            "Critic Update: 0\n",
            "Critic Update: 1\n",
            "Critic Update: 2\n",
            "Critic Update: 3\n",
            "Critic Update: 4\n"
          ],
          "name": "stdout"
        },
        {
          "output_type": "stream",
          "text": [
            "\n",
            "\n",
            " 56%|█████▌    | 56/100 [36:34<28:09, 38.40s/it, Generator loss=8.022005, Critic loss=-6.8546104]\u001b[A\u001b[A\n",
            "\n",
            " 57%|█████▋    | 57/100 [36:34<27:31, 38.41s/it, Generator loss=8.022005, Critic loss=-6.8546104]\u001b[A\u001b[A"
          ],
          "name": "stderr"
        },
        {
          "output_type": "stream",
          "text": [
            "\n",
            "Critic Update: 0\n",
            "Critic Update: 1\n",
            "Critic Update: 2\n",
            "Critic Update: 3\n",
            "Critic Update: 4\n"
          ],
          "name": "stdout"
        },
        {
          "output_type": "stream",
          "text": [
            "\n",
            "\n",
            " 57%|█████▋    | 57/100 [37:12<27:31, 38.41s/it, Generator loss=8.42562, Critic loss=-6.5501184] \u001b[A\u001b[A\n",
            "\n",
            " 58%|█████▊    | 58/100 [37:12<26:53, 38.42s/it, Generator loss=8.42562, Critic loss=-6.5501184]\u001b[A\u001b[A"
          ],
          "name": "stderr"
        },
        {
          "output_type": "stream",
          "text": [
            "\n",
            "Critic Update: 0\n",
            "Critic Update: 1\n",
            "Critic Update: 2\n",
            "Critic Update: 3\n",
            "Critic Update: 4\n"
          ],
          "name": "stdout"
        },
        {
          "output_type": "stream",
          "text": [
            "\n",
            "\n",
            " 58%|█████▊    | 58/100 [37:50<26:53, 38.42s/it, Generator loss=8.29914, Critic loss=-7.8634186]\u001b[A\u001b[A\n",
            "\n",
            " 59%|█████▉    | 59/100 [37:51<26:14, 38.41s/it, Generator loss=8.29914, Critic loss=-7.8634186]\u001b[A\u001b[A"
          ],
          "name": "stderr"
        },
        {
          "output_type": "stream",
          "text": [
            "\n",
            "Critic Update: 0\n",
            "Critic Update: 1\n",
            "Critic Update: 2\n",
            "Critic Update: 3\n",
            "Critic Update: 4\n"
          ],
          "name": "stdout"
        },
        {
          "output_type": "stream",
          "text": [
            "\n",
            "\n",
            " 59%|█████▉    | 59/100 [38:29<26:14, 38.41s/it, Generator loss=8.704604, Critic loss=-7.539794]\u001b[A\u001b[A\n",
            "\n",
            " 60%|██████    | 60/100 [38:29<25:36, 38.41s/it, Generator loss=8.704604, Critic loss=-7.539794]\u001b[A\u001b[A"
          ],
          "name": "stderr"
        },
        {
          "output_type": "stream",
          "text": [
            "\n",
            "Critic Update: 0\n",
            "Critic Update: 1\n",
            "Critic Update: 2\n",
            "Critic Update: 3\n",
            "Critic Update: 4\n"
          ],
          "name": "stdout"
        },
        {
          "output_type": "stream",
          "text": [
            "\n",
            "\n",
            " 60%|██████    | 60/100 [39:07<25:36, 38.41s/it, Generator loss=8.810963, Critic loss=-7.2421045]\u001b[A\u001b[A\n",
            "\n",
            " 61%|██████    | 61/100 [39:07<24:58, 38.41s/it, Generator loss=8.810963, Critic loss=-7.2421045]\u001b[A\u001b[A"
          ],
          "name": "stderr"
        },
        {
          "output_type": "stream",
          "text": [
            "\n",
            "Critic Update: 0\n",
            "Critic Update: 1\n",
            "Critic Update: 2\n",
            "Critic Update: 3\n",
            "Critic Update: 4\n"
          ],
          "name": "stdout"
        },
        {
          "output_type": "stream",
          "text": [
            "\n",
            "\n",
            " 61%|██████    | 61/100 [39:46<24:58, 38.41s/it, Generator loss=8.856113, Critic loss=-7.138708] \u001b[A\u001b[A\n",
            "\n",
            " 62%|██████▏   | 62/100 [39:46<24:18, 38.38s/it, Generator loss=8.856113, Critic loss=-7.138708]\u001b[A\u001b[A"
          ],
          "name": "stderr"
        },
        {
          "output_type": "stream",
          "text": [
            "\n",
            "Critic Update: 0\n",
            "Critic Update: 1\n",
            "Critic Update: 2\n",
            "Critic Update: 3\n",
            "Critic Update: 4\n"
          ],
          "name": "stdout"
        },
        {
          "output_type": "stream",
          "text": [
            "\n",
            "\n",
            " 62%|██████▏   | 62/100 [40:24<24:18, 38.38s/it, Generator loss=8.410376, Critic loss=-8.144546]\u001b[A\u001b[A\n",
            "\n",
            " 63%|██████▎   | 63/100 [40:24<23:40, 38.38s/it, Generator loss=8.410376, Critic loss=-8.144546]\u001b[A\u001b[A"
          ],
          "name": "stderr"
        },
        {
          "output_type": "stream",
          "text": [
            "\n",
            "Critic Update: 0\n",
            "Critic Update: 1\n",
            "Critic Update: 2\n",
            "Critic Update: 3\n",
            "Critic Update: 4\n"
          ],
          "name": "stdout"
        },
        {
          "output_type": "stream",
          "text": [
            "\n",
            "\n",
            " 63%|██████▎   | 63/100 [41:02<23:40, 38.38s/it, Generator loss=8.624375, Critic loss=-6.3126187]\u001b[A\u001b[A\n",
            "\n",
            " 64%|██████▍   | 64/100 [41:02<23:02, 38.40s/it, Generator loss=8.624375, Critic loss=-6.3126187]\u001b[A\u001b[A"
          ],
          "name": "stderr"
        },
        {
          "output_type": "stream",
          "text": [
            "\n",
            "Critic Update: 0\n",
            "Critic Update: 1\n",
            "Critic Update: 2\n",
            "Critic Update: 3\n",
            "Critic Update: 4\n"
          ],
          "name": "stdout"
        },
        {
          "output_type": "stream",
          "text": [
            "\n",
            "\n",
            " 64%|██████▍   | 64/100 [41:41<23:02, 38.40s/it, Generator loss=9.072191, Critic loss=-8.642912] \u001b[A\u001b[A\n",
            "\n",
            " 65%|██████▌   | 65/100 [41:41<22:23, 38.39s/it, Generator loss=9.072191, Critic loss=-8.642912]\u001b[A\u001b[A"
          ],
          "name": "stderr"
        },
        {
          "output_type": "stream",
          "text": [
            "\n",
            "Critic Update: 0\n",
            "Critic Update: 1\n",
            "Critic Update: 2\n",
            "Critic Update: 3\n",
            "Critic Update: 4\n"
          ],
          "name": "stdout"
        },
        {
          "output_type": "stream",
          "text": [
            "\n",
            "\n",
            " 65%|██████▌   | 65/100 [42:19<22:23, 38.39s/it, Generator loss=9.448444, Critic loss=-8.085612]\u001b[A\u001b[A\n",
            "\n",
            " 66%|██████▌   | 66/100 [42:19<21:45, 38.39s/it, Generator loss=9.448444, Critic loss=-8.085612]\u001b[A\u001b[A"
          ],
          "name": "stderr"
        },
        {
          "output_type": "stream",
          "text": [
            "\n",
            "Critic Update: 0\n",
            "Critic Update: 1\n",
            "Critic Update: 2\n",
            "Critic Update: 3\n",
            "Critic Update: 4\n"
          ],
          "name": "stdout"
        },
        {
          "output_type": "stream",
          "text": [
            "\n",
            "\n",
            " 66%|██████▌   | 66/100 [42:58<21:45, 38.39s/it, Generator loss=9.509122, Critic loss=-8.715666]\u001b[A\u001b[A\n",
            "\n",
            " 67%|██████▋   | 67/100 [42:58<21:06, 38.38s/it, Generator loss=9.509122, Critic loss=-8.715666]\u001b[A\u001b[A"
          ],
          "name": "stderr"
        },
        {
          "output_type": "stream",
          "text": [
            "\n",
            "Critic Update: 0\n",
            "Critic Update: 1\n",
            "Critic Update: 2\n",
            "Critic Update: 3\n",
            "Critic Update: 4\n"
          ],
          "name": "stdout"
        },
        {
          "output_type": "stream",
          "text": [
            "\n",
            "\n",
            " 67%|██████▋   | 67/100 [43:36<21:06, 38.38s/it, Generator loss=9.697119, Critic loss=-8.33097] \u001b[A\u001b[A\n",
            "\n",
            " 68%|██████▊   | 68/100 [43:36<20:28, 38.39s/it, Generator loss=9.697119, Critic loss=-8.33097]\u001b[A\u001b[A"
          ],
          "name": "stderr"
        },
        {
          "output_type": "stream",
          "text": [
            "\n",
            "Critic Update: 0\n",
            "Critic Update: 1\n",
            "Critic Update: 2\n",
            "Critic Update: 3\n",
            "Critic Update: 4\n"
          ],
          "name": "stdout"
        },
        {
          "output_type": "stream",
          "text": [
            "\n",
            "\n",
            " 68%|██████▊   | 68/100 [44:14<20:28, 38.39s/it, Generator loss=9.336669, Critic loss=-8.063779]\u001b[A\u001b[A\n",
            "\n",
            " 69%|██████▉   | 69/100 [44:14<19:49, 38.37s/it, Generator loss=9.336669, Critic loss=-8.063779]\u001b[A\u001b[A"
          ],
          "name": "stderr"
        },
        {
          "output_type": "stream",
          "text": [
            "\n",
            "Critic Update: 0\n",
            "Critic Update: 1\n",
            "Critic Update: 2\n",
            "Critic Update: 3\n",
            "Critic Update: 4\n"
          ],
          "name": "stdout"
        },
        {
          "output_type": "stream",
          "text": [
            "\n",
            "\n",
            " 69%|██████▉   | 69/100 [44:53<19:49, 38.37s/it, Generator loss=9.4848585, Critic loss=-8.048752]\u001b[A\u001b[A\n",
            "\n",
            " 70%|███████   | 70/100 [44:53<19:10, 38.36s/it, Generator loss=9.4848585, Critic loss=-8.048752]\u001b[A\u001b[A"
          ],
          "name": "stderr"
        },
        {
          "output_type": "stream",
          "text": [
            "\n",
            "Critic Update: 0\n",
            "Critic Update: 1\n",
            "Critic Update: 2\n",
            "Critic Update: 3\n",
            "Critic Update: 4\n"
          ],
          "name": "stdout"
        },
        {
          "output_type": "stream",
          "text": [
            "\n",
            "\n",
            " 70%|███████   | 70/100 [45:31<19:10, 38.36s/it, Generator loss=9.122376, Critic loss=-8.086806] \u001b[A\u001b[A\n",
            "\n",
            " 71%|███████   | 71/100 [45:31<18:32, 38.36s/it, Generator loss=9.122376, Critic loss=-8.086806]\u001b[A\u001b[A"
          ],
          "name": "stderr"
        },
        {
          "output_type": "stream",
          "text": [
            "\n",
            "Critic Update: 0\n",
            "Critic Update: 1\n",
            "Critic Update: 2\n",
            "Critic Update: 3\n",
            "Critic Update: 4\n"
          ],
          "name": "stdout"
        },
        {
          "output_type": "stream",
          "text": [
            "\n",
            "\n",
            " 71%|███████   | 71/100 [46:09<18:32, 38.36s/it, Generator loss=9.595405, Critic loss=-9.139708]\u001b[A\u001b[A\n",
            "\n",
            " 72%|███████▏  | 72/100 [46:09<17:54, 38.37s/it, Generator loss=9.595405, Critic loss=-9.139708]\u001b[A\u001b[A"
          ],
          "name": "stderr"
        },
        {
          "output_type": "stream",
          "text": [
            "\n",
            "Critic Update: 0\n",
            "Critic Update: 1\n",
            "Critic Update: 2\n",
            "Critic Update: 3\n",
            "Critic Update: 4\n"
          ],
          "name": "stdout"
        },
        {
          "output_type": "stream",
          "text": [
            "\n",
            "\n",
            " 72%|███████▏  | 72/100 [46:48<17:54, 38.37s/it, Generator loss=9.641403, Critic loss=-8.342438]\u001b[A\u001b[A\n",
            "\n",
            " 73%|███████▎  | 73/100 [46:48<17:16, 38.37s/it, Generator loss=9.641403, Critic loss=-8.342438]\u001b[A\u001b[A"
          ],
          "name": "stderr"
        },
        {
          "output_type": "stream",
          "text": [
            "\n",
            "Critic Update: 0\n",
            "Critic Update: 1\n",
            "Critic Update: 2\n",
            "Critic Update: 3\n",
            "Critic Update: 4\n"
          ],
          "name": "stdout"
        },
        {
          "output_type": "stream",
          "text": [
            "\n",
            "\n",
            " 73%|███████▎  | 73/100 [47:26<17:16, 38.37s/it, Generator loss=9.87974, Critic loss=-8.711982] \u001b[A\u001b[A\n",
            "\n",
            " 74%|███████▍  | 74/100 [47:26<16:37, 38.38s/it, Generator loss=9.87974, Critic loss=-8.711982]\u001b[A\u001b[A"
          ],
          "name": "stderr"
        },
        {
          "output_type": "stream",
          "text": [
            "\n",
            "Critic Update: 0\n",
            "Critic Update: 1\n",
            "Critic Update: 2\n",
            "Critic Update: 3\n",
            "Critic Update: 4\n"
          ],
          "name": "stdout"
        },
        {
          "output_type": "stream",
          "text": [
            "\n",
            "\n",
            " 74%|███████▍  | 74/100 [48:05<16:37, 38.38s/it, Generator loss=8.712689, Critic loss=-5.6381226]\u001b[A\u001b[A\n",
            "\n",
            " 75%|███████▌  | 75/100 [48:05<15:59, 38.39s/it, Generator loss=8.712689, Critic loss=-5.6381226]\u001b[A\u001b[A"
          ],
          "name": "stderr"
        },
        {
          "output_type": "stream",
          "text": [
            "\n",
            "Critic Update: 0\n",
            "Critic Update: 1\n",
            "Critic Update: 2\n",
            "Critic Update: 3\n",
            "Critic Update: 4\n"
          ],
          "name": "stdout"
        },
        {
          "output_type": "stream",
          "text": [
            "\n",
            "\n",
            " 75%|███████▌  | 75/100 [48:43<15:59, 38.39s/it, Generator loss=9.961345, Critic loss=-7.830121] \u001b[A\u001b[A\n",
            "\n",
            " 76%|███████▌  | 76/100 [48:43<15:21, 38.41s/it, Generator loss=9.961345, Critic loss=-7.830121]\u001b[A\u001b[A"
          ],
          "name": "stderr"
        },
        {
          "output_type": "stream",
          "text": [
            "\n",
            "Critic Update: 0\n",
            "Critic Update: 1\n",
            "Critic Update: 2\n",
            "Critic Update: 3\n",
            "Critic Update: 4\n"
          ],
          "name": "stdout"
        },
        {
          "output_type": "stream",
          "text": [
            "\n",
            "\n",
            " 76%|███████▌  | 76/100 [49:21<15:21, 38.41s/it, Generator loss=9.830784, Critic loss=-8.3936205]\u001b[A\u001b[A\n",
            "\n",
            " 77%|███████▋  | 77/100 [49:21<14:43, 38.41s/it, Generator loss=9.830784, Critic loss=-8.3936205]\u001b[A\u001b[A"
          ],
          "name": "stderr"
        },
        {
          "output_type": "stream",
          "text": [
            "\n",
            "Critic Update: 0\n",
            "Critic Update: 1\n",
            "Critic Update: 2\n",
            "Critic Update: 3\n",
            "Critic Update: 4\n"
          ],
          "name": "stdout"
        },
        {
          "output_type": "stream",
          "text": [
            "\n",
            "\n",
            " 77%|███████▋  | 77/100 [50:00<14:43, 38.41s/it, Generator loss=9.925522, Critic loss=-8.087137] \u001b[A\u001b[A\n",
            "\n",
            " 78%|███████▊  | 78/100 [50:00<14:04, 38.40s/it, Generator loss=9.925522, Critic loss=-8.087137]\u001b[A\u001b[A"
          ],
          "name": "stderr"
        },
        {
          "output_type": "stream",
          "text": [
            "\n",
            "Critic Update: 0\n",
            "Critic Update: 1\n",
            "Critic Update: 2\n",
            "Critic Update: 3\n",
            "Critic Update: 4\n"
          ],
          "name": "stdout"
        },
        {
          "output_type": "stream",
          "text": [
            "\n",
            "\n",
            " 78%|███████▊  | 78/100 [50:38<14:04, 38.40s/it, Generator loss=10.40831, Critic loss=-6.4717703]\u001b[A\u001b[A\n",
            "\n",
            " 79%|███████▉  | 79/100 [50:38<13:26, 38.40s/it, Generator loss=10.40831, Critic loss=-6.4717703]\u001b[A\u001b[A"
          ],
          "name": "stderr"
        },
        {
          "output_type": "stream",
          "text": [
            "\n",
            "Critic Update: 0\n",
            "Critic Update: 1\n",
            "Critic Update: 2\n",
            "Critic Update: 3\n",
            "Critic Update: 4\n"
          ],
          "name": "stdout"
        },
        {
          "output_type": "stream",
          "text": [
            "\n",
            "\n",
            " 79%|███████▉  | 79/100 [51:17<13:26, 38.40s/it, Generator loss=10.403054, Critic loss=-9.573022]\u001b[A\u001b[A\n",
            "\n",
            " 80%|████████  | 80/100 [51:17<12:47, 38.40s/it, Generator loss=10.403054, Critic loss=-9.573022]\u001b[A\u001b[A"
          ],
          "name": "stderr"
        },
        {
          "output_type": "stream",
          "text": [
            "\n",
            "Critic Update: 0\n",
            "Critic Update: 1\n",
            "Critic Update: 2\n",
            "Critic Update: 3\n",
            "Critic Update: 4\n"
          ],
          "name": "stdout"
        },
        {
          "output_type": "stream",
          "text": [
            "\n",
            "\n",
            " 80%|████████  | 80/100 [51:55<12:47, 38.40s/it, Generator loss=10.0994625, Critic loss=-9.135037]\u001b[A\u001b[A\n",
            "\n",
            " 81%|████████  | 81/100 [51:55<12:09, 38.39s/it, Generator loss=10.0994625, Critic loss=-9.135037]\u001b[A\u001b[A"
          ],
          "name": "stderr"
        },
        {
          "output_type": "stream",
          "text": [
            "\n",
            "Critic Update: 0\n",
            "Critic Update: 1\n",
            "Critic Update: 2\n",
            "Critic Update: 3\n",
            "Critic Update: 4\n"
          ],
          "name": "stdout"
        },
        {
          "output_type": "stream",
          "text": [
            "\n",
            "\n",
            " 81%|████████  | 81/100 [52:33<12:09, 38.39s/it, Generator loss=9.152684, Critic loss=-6.4687853] \u001b[A\u001b[A\n",
            "\n",
            " 82%|████████▏ | 82/100 [52:33<11:30, 38.38s/it, Generator loss=9.152684, Critic loss=-6.4687853]\u001b[A\u001b[A"
          ],
          "name": "stderr"
        },
        {
          "output_type": "stream",
          "text": [
            "\n",
            "Critic Update: 0\n",
            "Critic Update: 1\n",
            "Critic Update: 2\n",
            "Critic Update: 3\n",
            "Critic Update: 4\n"
          ],
          "name": "stdout"
        },
        {
          "output_type": "stream",
          "text": [
            "\n",
            "\n",
            " 82%|████████▏ | 82/100 [53:12<11:30, 38.38s/it, Generator loss=10.483569, Critic loss=-9.5905285]\u001b[A\u001b[A\n",
            "\n",
            " 83%|████████▎ | 83/100 [53:12<10:52, 38.39s/it, Generator loss=10.483569, Critic loss=-9.5905285]\u001b[A\u001b[A"
          ],
          "name": "stderr"
        },
        {
          "output_type": "stream",
          "text": [
            "\n",
            "Critic Update: 0\n",
            "Critic Update: 1\n",
            "Critic Update: 2\n",
            "Critic Update: 3\n",
            "Critic Update: 4\n"
          ],
          "name": "stdout"
        },
        {
          "output_type": "stream",
          "text": [
            "\n",
            "\n",
            " 83%|████████▎ | 83/100 [53:50<10:52, 38.39s/it, Generator loss=11.115496, Critic loss=-9.079031] \u001b[A\u001b[A\n",
            "\n",
            " 84%|████████▍ | 84/100 [53:50<10:15, 38.45s/it, Generator loss=11.115496, Critic loss=-9.079031]\u001b[A\u001b[A"
          ],
          "name": "stderr"
        },
        {
          "output_type": "stream",
          "text": [
            "\n",
            "Critic Update: 0\n",
            "Critic Update: 1\n",
            "Critic Update: 2\n",
            "Critic Update: 3\n",
            "Critic Update: 4\n"
          ],
          "name": "stdout"
        },
        {
          "output_type": "stream",
          "text": [
            "\n",
            "\n",
            " 84%|████████▍ | 84/100 [54:29<10:15, 38.45s/it, Generator loss=11.074356, Critic loss=-8.271011]\u001b[A\u001b[A\n",
            "\n",
            " 85%|████████▌ | 85/100 [54:29<09:37, 38.52s/it, Generator loss=11.074356, Critic loss=-8.271011]\u001b[A\u001b[A"
          ],
          "name": "stderr"
        },
        {
          "output_type": "stream",
          "text": [
            "\n",
            "Critic Update: 0\n",
            "Critic Update: 1\n",
            "Critic Update: 2\n",
            "Critic Update: 3\n",
            "Critic Update: 4\n"
          ],
          "name": "stdout"
        },
        {
          "output_type": "stream",
          "text": [
            "\n",
            "\n",
            " 85%|████████▌ | 85/100 [55:08<09:37, 38.52s/it, Generator loss=10.76071, Critic loss=-9.725506] \u001b[A\u001b[A\n",
            "\n",
            " 86%|████████▌ | 86/100 [55:08<08:59, 38.52s/it, Generator loss=10.76071, Critic loss=-9.725506]\u001b[A\u001b[A"
          ],
          "name": "stderr"
        },
        {
          "output_type": "stream",
          "text": [
            "\n",
            "Critic Update: 0\n",
            "Critic Update: 1\n",
            "Critic Update: 2\n",
            "Critic Update: 3\n",
            "Critic Update: 4\n"
          ],
          "name": "stdout"
        },
        {
          "output_type": "stream",
          "text": [
            "\n",
            "\n",
            " 86%|████████▌ | 86/100 [55:46<08:59, 38.52s/it, Generator loss=10.969426, Critic loss=-9.468643]\u001b[A\u001b[A\n",
            "\n",
            " 87%|████████▋ | 87/100 [55:46<08:21, 38.54s/it, Generator loss=10.969426, Critic loss=-9.468643]\u001b[A\u001b[A"
          ],
          "name": "stderr"
        },
        {
          "output_type": "stream",
          "text": [
            "\n",
            "Critic Update: 0\n",
            "Critic Update: 1\n",
            "Critic Update: 2\n",
            "Critic Update: 3\n",
            "Critic Update: 4\n"
          ],
          "name": "stdout"
        },
        {
          "output_type": "stream",
          "text": [
            "\n",
            "\n",
            " 87%|████████▋ | 87/100 [56:25<08:21, 38.54s/it, Generator loss=10.409682, Critic loss=-8.503168]\u001b[A\u001b[A\n",
            "\n",
            " 88%|████████▊ | 88/100 [56:25<07:43, 38.59s/it, Generator loss=10.409682, Critic loss=-8.503168]\u001b[A\u001b[A"
          ],
          "name": "stderr"
        },
        {
          "output_type": "stream",
          "text": [
            "\n",
            "Critic Update: 0\n",
            "Critic Update: 1\n",
            "Critic Update: 2\n",
            "Critic Update: 3\n",
            "Critic Update: 4\n"
          ],
          "name": "stdout"
        },
        {
          "output_type": "stream",
          "text": [
            "\n",
            "\n",
            " 88%|████████▊ | 88/100 [57:04<07:43, 38.59s/it, Generator loss=10.183174, Critic loss=-8.206638]\u001b[A\u001b[A\n",
            "\n",
            " 89%|████████▉ | 89/100 [57:04<07:04, 38.61s/it, Generator loss=10.183174, Critic loss=-8.206638]\u001b[A\u001b[A"
          ],
          "name": "stderr"
        },
        {
          "output_type": "stream",
          "text": [
            "\n",
            "Critic Update: 0\n",
            "Critic Update: 1\n",
            "Critic Update: 2\n",
            "Critic Update: 3\n",
            "Critic Update: 4\n"
          ],
          "name": "stdout"
        },
        {
          "output_type": "stream",
          "text": [
            "\n",
            "\n",
            " 89%|████████▉ | 89/100 [57:42<07:04, 38.61s/it, Generator loss=10.895754, Critic loss=-10.072339]\u001b[A\u001b[A\n",
            "\n",
            " 90%|█████████ | 90/100 [57:42<06:26, 38.63s/it, Generator loss=10.895754, Critic loss=-10.072339]\u001b[A\u001b[A"
          ],
          "name": "stderr"
        },
        {
          "output_type": "stream",
          "text": [
            "\n",
            "Critic Update: 0\n",
            "Critic Update: 1\n",
            "Critic Update: 2\n",
            "Critic Update: 3\n",
            "Critic Update: 4\n"
          ],
          "name": "stdout"
        },
        {
          "output_type": "stream",
          "text": [
            "\n",
            "\n",
            " 90%|█████████ | 90/100 [58:21<06:26, 38.63s/it, Generator loss=10.804759, Critic loss=-9.268982] \u001b[A\u001b[A\n",
            "\n",
            " 91%|█████████ | 91/100 [58:21<05:47, 38.62s/it, Generator loss=10.804759, Critic loss=-9.268982]\u001b[A\u001b[A"
          ],
          "name": "stderr"
        },
        {
          "output_type": "stream",
          "text": [
            "\n",
            "Critic Update: 0\n",
            "Critic Update: 1\n",
            "Critic Update: 2\n",
            "Critic Update: 3\n",
            "Critic Update: 4\n"
          ],
          "name": "stdout"
        },
        {
          "output_type": "stream",
          "text": [
            "\n",
            "\n",
            " 91%|█████████ | 91/100 [58:59<05:47, 38.62s/it, Generator loss=10.975451, Critic loss=-10.463956]\u001b[A\u001b[A\n",
            "\n",
            " 92%|█████████▏| 92/100 [58:59<05:09, 38.63s/it, Generator loss=10.975451, Critic loss=-10.463956]\u001b[A\u001b[A"
          ],
          "name": "stderr"
        },
        {
          "output_type": "stream",
          "text": [
            "\n",
            "Critic Update: 0\n",
            "Critic Update: 1\n",
            "Critic Update: 2\n",
            "Critic Update: 3\n",
            "Critic Update: 4\n"
          ],
          "name": "stdout"
        },
        {
          "output_type": "stream",
          "text": [
            "\n",
            "\n",
            " 92%|█████████▏| 92/100 [59:38<05:09, 38.63s/it, Generator loss=11.521616, Critic loss=-7.2882094]\u001b[A\u001b[A\n",
            "\n",
            " 93%|█████████▎| 93/100 [59:38<04:30, 38.61s/it, Generator loss=11.521616, Critic loss=-7.2882094]\u001b[A\u001b[A"
          ],
          "name": "stderr"
        },
        {
          "output_type": "stream",
          "text": [
            "\n",
            "Critic Update: 0\n",
            "Critic Update: 1\n",
            "Critic Update: 2\n",
            "Critic Update: 3\n",
            "Critic Update: 4\n"
          ],
          "name": "stdout"
        },
        {
          "output_type": "stream",
          "text": [
            "\n",
            "\n",
            " 93%|█████████▎| 93/100 [1:00:16<04:30, 38.61s/it, Generator loss=11.117159, Critic loss=-9.762524]\u001b[A\u001b[A\n",
            "\n",
            " 94%|█████████▍| 94/100 [1:00:16<03:51, 38.58s/it, Generator loss=11.117159, Critic loss=-9.762524]\u001b[A\u001b[A"
          ],
          "name": "stderr"
        },
        {
          "output_type": "stream",
          "text": [
            "\n",
            "Critic Update: 0\n",
            "Critic Update: 1\n",
            "Critic Update: 2\n",
            "Critic Update: 3\n",
            "Critic Update: 4\n"
          ],
          "name": "stdout"
        },
        {
          "output_type": "stream",
          "text": [
            "\n",
            "\n",
            " 94%|█████████▍| 94/100 [1:00:55<03:51, 38.58s/it, Generator loss=11.763882, Critic loss=-9.116914]\u001b[A\u001b[A\n",
            "\n",
            " 95%|█████████▌| 95/100 [1:00:55<03:13, 38.60s/it, Generator loss=11.763882, Critic loss=-9.116914]\u001b[A\u001b[A"
          ],
          "name": "stderr"
        },
        {
          "output_type": "stream",
          "text": [
            "\n",
            "Critic Update: 0\n",
            "Critic Update: 1\n",
            "Critic Update: 2\n",
            "Critic Update: 3\n",
            "Critic Update: 4\n"
          ],
          "name": "stdout"
        },
        {
          "output_type": "stream",
          "text": [
            "\n",
            "\n",
            " 95%|█████████▌| 95/100 [1:01:34<03:13, 38.60s/it, Generator loss=11.217552, Critic loss=-9.518917]\u001b[A\u001b[A\n",
            "\n",
            " 96%|█████████▌| 96/100 [1:01:34<02:34, 38.61s/it, Generator loss=11.217552, Critic loss=-9.518917]\u001b[A\u001b[A"
          ],
          "name": "stderr"
        },
        {
          "output_type": "stream",
          "text": [
            "\n",
            "Critic Update: 0\n",
            "Critic Update: 1\n",
            "Critic Update: 2\n",
            "Critic Update: 3\n",
            "Critic Update: 4\n"
          ],
          "name": "stdout"
        },
        {
          "output_type": "stream",
          "text": [
            "\n",
            "\n",
            " 96%|█████████▌| 96/100 [1:02:12<02:34, 38.61s/it, Generator loss=11.597999, Critic loss=-10.352422]\u001b[A\u001b[A\n",
            "\n",
            " 97%|█████████▋| 97/100 [1:02:12<01:55, 38.62s/it, Generator loss=11.597999, Critic loss=-10.352422]\u001b[A\u001b[A"
          ],
          "name": "stderr"
        },
        {
          "output_type": "stream",
          "text": [
            "\n",
            "Critic Update: 0\n",
            "Critic Update: 1\n",
            "Critic Update: 2\n",
            "Critic Update: 3\n",
            "Critic Update: 4\n"
          ],
          "name": "stdout"
        },
        {
          "output_type": "stream",
          "text": [
            "\n",
            "\n",
            " 97%|█████████▋| 97/100 [1:02:51<01:55, 38.62s/it, Generator loss=11.290693, Critic loss=-9.306901] \u001b[A\u001b[A\n",
            "\n",
            " 98%|█████████▊| 98/100 [1:02:51<01:17, 38.61s/it, Generator loss=11.290693, Critic loss=-9.306901]\u001b[A\u001b[A"
          ],
          "name": "stderr"
        },
        {
          "output_type": "stream",
          "text": [
            "\n",
            "Critic Update: 0\n",
            "Critic Update: 1\n",
            "Critic Update: 2\n",
            "Critic Update: 3\n",
            "Critic Update: 4\n"
          ],
          "name": "stdout"
        },
        {
          "output_type": "stream",
          "text": [
            "\n",
            "\n",
            " 98%|█████████▊| 98/100 [1:03:30<01:17, 38.61s/it, Generator loss=11.3024025, Critic loss=-9.91312]\u001b[A\u001b[A\n",
            "\n",
            " 99%|█████████▉| 99/100 [1:03:30<00:38, 38.60s/it, Generator loss=11.3024025, Critic loss=-9.91312]\u001b[A\u001b[A"
          ],
          "name": "stderr"
        },
        {
          "output_type": "stream",
          "text": [
            "\n",
            "Critic Update: 0\n",
            "Critic Update: 1\n",
            "Critic Update: 2\n",
            "Critic Update: 3\n",
            "Critic Update: 4\n"
          ],
          "name": "stdout"
        },
        {
          "output_type": "stream",
          "text": [
            "\n",
            "\n",
            " 99%|█████████▉| 99/100 [1:04:08<00:38, 38.60s/it, Generator loss=11.975176, Critic loss=-10.920971]\u001b[A\u001b[A\n",
            "\n",
            "100%|██████████| 100/100 [1:04:08<00:00, 38.49s/it, Generator loss=11.975176, Critic loss=-10.920971]\n"
          ],
          "name": "stderr"
        }
      ]
    },
    {
      "cell_type": "code",
      "metadata": {
        "colab": {
          "base_uri": "https://localhost:8080/",
          "height": 297
        },
        "id": "RvgH1GlV0gZv",
        "outputId": "8b11f2c1-274d-45ce-8089-2b1257377dc1"
      },
      "source": [
        "plt.figure()\n",
        "plt.plot(model.G_loss, lw = 2, label = 'Generator loss')\n",
        "plt.plot(model.D_loss, lw = 2, label = 'Critic loss')\n",
        "plt.legend()\n",
        "plt.xlabel('epoch')\n",
        "plt.ylabel('loss')\n",
        "plt.tight_layout()"
      ],
      "execution_count": 43,
      "outputs": [
        {
          "output_type": "display_data",
          "data": {
            "image/png": "[encoded data removed]",
            "text/plain": [
              "<Figure size 432x288 with 1 Axes>"
            ]
          },
          "metadata": {
            "tags": [],
            "needs_background": "light"
          }
        }
      ]
    },
    {
      "cell_type": "code",
      "metadata": {
        "id": "yu1jtkpA0gZv"
      },
      "source": [
        "# Generate some samples\n",
        "num_samples = 64\n",
        "Z = random.normal(random.PRNGKey(0), (num_samples, 1, 1, 100))\n",
        "G_params = model.G_get_params(model.G_opt_state)\n",
        "images = model.G_apply(G_params, Z)"
      ],
      "execution_count": 75,
      "outputs": []
    },
    {
      "cell_type": "code",
      "metadata": {
        "colab": {
          "base_uri": "https://localhost:8080/",
          "height": 1000
        },
        "id": "Zz61cDLLstWd",
        "outputId": "ee9f29c6-afe5-4278-bf48-dc4d4e077f3c"
      },
      "source": [
        "# plot some samples\n",
        "print(images.shape)\n",
        "for k in range(10):\n",
        "  fig = plt.figure(k)\n",
        "  plt.imshow(images[k,:,:,0], cmap='gray')\n",
        "  plt.show();"
      ],
      "execution_count": 77,
      "outputs": [
        {
          "output_type": "stream",
          "text": [
            "(64, 20, 20, 1)\n"
          ],
          "name": "stdout"
        },
        {
          "output_type": "display_data",
          "data": {
            "image/png": "[encoded data removed]",
            "text/plain": [
              "<Figure size 432x288 with 1 Axes>"
            ]
          },
          "metadata": {
            "tags": [],
            "needs_background": "light"
          }
        },
        {
          "output_type": "display_data",
          "data": {
            "image/png": "[encoded data removed]",
            "text/plain": [
              "<Figure size 432x288 with 1 Axes>"
            ]
          },
          "metadata": {
            "tags": [],
            "needs_background": "light"
          }
        },
        {
          "output_type": "display_data",
          "data": {
            "image/png": "[encoded data removed]",
            "text/plain": [
              "<Figure size 432x288 with 1 Axes>"
            ]
          },
          "metadata": {
            "tags": [],
            "needs_background": "light"
          }
        },
        {
          "output_type": "display_data",
          "data": {
            "image/png": "[encoded data removed]",
            "text/plain": [
              "<Figure size 432x288 with 1 Axes>"
            ]
          },
          "metadata": {
            "tags": [],
            "needs_background": "light"
          }
        },
        {
          "output_type": "display_data",
          "data": {
            "image/png": "[encoded data removed]",
            "text/plain": [
              "<Figure size 432x288 with 1 Axes>"
            ]
          },
          "metadata": {
            "tags": [],
            "needs_background": "light"
          }
        },
        {
          "output_type": "display_data",
          "data": {
            "image/png": "[encoded data removed]",
            "text/plain": [
              "<Figure size 432x288 with 1 Axes>"
            ]
          },
          "metadata": {
            "tags": [],
            "needs_background": "light"
          }
        },
        {
          "output_type": "display_data",
          "data": {
            "image/png": "[encoded data removed]",
            "text/plain": [
              "<Figure size 432x288 with 1 Axes>"
            ]
          },
          "metadata": {
            "tags": [],
            "needs_background": "light"
          }
        },
        {
          "output_type": "display_data",
          "data": {
            "image/png": "[encoded data removed]",
            "text/plain": [
              "<Figure size 432x288 with 1 Axes>"
            ]
          },
          "metadata": {
            "tags": [],
            "needs_background": "light"
          }
        },
        {
          "output_type": "display_data",
          "data": {
            "image/png": "[encoded data removed]",
            "text/plain": [
              "<Figure size 432x288 with 1 Axes>"
            ]
          },
          "metadata": {
            "tags": [],
            "needs_background": "light"
          }
        },
        {
          "output_type": "display_data",
          "data": {
            "image/png": "[encoded data removed]",
            "text/plain": [
              "<Figure size 432x288 with 1 Axes>"
            ]
          },
          "metadata": {
            "tags": [],
            "needs_background": "light"
          }
        }
      ]
    },
    {
      "cell_type": "code",
      "metadata": {
        "id": "oiEVro_asyWr"
      },
      "source": [
        "#to use instead of relu in discriminator/ critic nn\n",
        "#used in paper \n",
        "Leaky_Relu = elementwise(leaky_relu, negative_slope=0.2)\n",
        "\n",
        "def Discriminator2():\n",
        "    init_fun, conv_net = stax.serial(Conv(out_chan=128, filter_shape=(4, 4), strides=(2, 2), padding=\"SAME\"),\n",
        "                                    BatchNorm(), \n",
        "                                    Leaky_Relu,\n",
        "                                    Conv(out_chan=256, filter_shape=(4, 4), strides=(2, 2), padding=\"SAME\"),\n",
        "                                    BatchNorm(),\n",
        "                                    Leaky_Relu,\n",
        "                                    Conv(out_chan=512, filter_shape=(4, 4), strides=(2, 2), padding=\"SAME\"),\n",
        "                                    BatchNorm(), \n",
        "                                    Leaky_Relu,\n",
        "                                    Conv(out_chan=1024, filter_shape=(4, 4), strides=(2, 2), padding=\"SAME\"),\n",
        "                                    BatchNorm(),\n",
        "                                    Leaky_Relu,\n",
        "                                    Dense(out_dim=1))\n",
        "    return init_fun, conv_net"
      ],
      "execution_count": null,
      "outputs": []
    },
    {
      "cell_type": "code",
      "metadata": {
        "id": "tl0eBSdC5bx4"
      },
      "source": [
        "#to use instead of relu in discriminator/ critic nn\n",
        "#used in paper \n",
        "Leaky_Relu = elementwise(leaky_relu, negative_slope=0.2)\n",
        "\n",
        "def Discriminator2_mod():\n",
        "    init_fun, conv_net = stax.serial(Conv(out_chan=256, filter_shape=(4, 4), strides=(2, 2), padding=\"SAME\"),\n",
        "                                    BatchNorm(),\n",
        "                                    Leaky_Relu,\n",
        "                                    Conv(out_chan=512, filter_shape=(4, 4), strides=(2, 2), padding=\"SAME\"),\n",
        "                                    BatchNorm(), \n",
        "                                    Leaky_Relu,\n",
        "                                    Dense(out_dim=1))\n",
        "    return init_fun, conv_net"
      ],
      "execution_count": 35,
      "outputs": []
    },
    {
      "cell_type": "code",
      "metadata": {
        "colab": {
          "base_uri": "https://localhost:8080/",
          "height": 269
        },
        "id": "t87NxNGvMD3e",
        "outputId": "02120dec-490b-4696-ee45-365afcde1e8b"
      },
      "source": [
        "#visual for parallel lines example\n",
        "import matplotlib.pyplot as plt\n",
        "\n",
        "fig,ax = plt.subplots()\n",
        "ax.axis([-1,2, -.5, 1.5])\n",
        "plt.hlines(0,-1,2)\n",
        "plt.vlines(0, 0, 1)\n",
        "ax.text(0-.1,.8, 'P')\n",
        "plt.vlines(1, 0, 1)\n",
        "ax.text(1.1,.8, 'Q')\n",
        "ax.annotate(\"\", xy=(1, 0.5), xytext=(0, 0.5),arrowprops=dict(arrowstyle=\"<-\"))\n",
        "plt.hlines(1,-.5,1.5, linestyles='dashed', colors='grey')\n",
        "ax.text(.5,.6, 'T');\n",
        "plt.savefig('parallel_example.png')\n"
      ],
      "execution_count": 72,
      "outputs": [
        {
          "output_type": "display_data",
          "data": {
            "image/png": "[encoded data removed]",
            "text/plain": [
              "<Figure size 432x288 with 1 Axes>"
            ]
          },
          "metadata": {
            "tags": [],
            "needs_background": "light"
          }
        }
      ]
    },
    {
      "cell_type": "code",
      "metadata": {
        "id": "WuiHC68J5Vzm"
      },
      "source": [
        ""
      ],
      "execution_count": null,
      "outputs": []
    }
  ]
}